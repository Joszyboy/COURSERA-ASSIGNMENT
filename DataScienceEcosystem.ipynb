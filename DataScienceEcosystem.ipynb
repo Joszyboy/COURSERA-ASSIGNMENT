{
 "cells": [
  {
   "cell_type": "markdown",
   "id": "06742f5b-d2ea-4d69-b04d-ea84a6e3bb31",
   "metadata": {},
   "source": [
    "# Data Science Tools and Ecosystem"
   ]
  },
  {
   "cell_type": "markdown",
   "id": "04b00e11-38fe-4ba8-bc30-75cd195556ca",
   "metadata": {},
   "source": [
    "## In this notebook, Data Science Tools and Ecosystem are summarized"
   ]
  },
  {
   "cell_type": "markdown",
   "id": "c3fbeef2-970f-46a4-b3c8-6d8a132b99eb",
   "metadata": {},
   "source": [
    "### Some of the popular languages that Data Scientists use are:\n",
    "* Python\n",
    "* R\n",
    "* Julia\n",
    "* Scalia\n",
    "* C\n",
    "* Javascript"
   ]
  },
  {
   "cell_type": "markdown",
   "id": "7446d824-3065-473e-9058-ad0633d7f750",
   "metadata": {},
   "source": [
    "### Some of the commonly used libraries used by Data Scientists include:\n",
    "* Numpy\n",
    "* Pandas\n",
    "* Matplotlib"
   ]
  },
  {
   "cell_type": "markdown",
   "id": "c768d892-7c80-44c9-a980-1412c794d4de",
   "metadata": {},
   "source": [
    "|Data Science Tools|\n",
    "|------------------|\n",
    "|     Jupyter      |\n",
    "|     Rstudio      |\n",
    "|     Pycharm      |"
   ]
  },
  {
   "cell_type": "markdown",
   "id": "eaef86b7-05f1-441b-8317-3179b7e9efd7",
   "metadata": {},
   "source": [
    "### Below are a few examples of evaluating arithmetic expressions in Python"
   ]
  },
  {
   "cell_type": "code",
   "execution_count": 1,
   "id": "54a62d9f-73bb-4477-a599-54866fae76fd",
   "metadata": {},
   "outputs": [
    {
     "name": "stdout",
     "output_type": "stream",
     "text": [
      "17\n"
     ]
    }
   ],
   "source": [
    "print((3*4)+5)\n",
    "# This a simple arithmetic expression to mutiply then add integers"
   ]
  },
  {
   "cell_type": "code",
   "execution_count": 2,
   "id": "3e59cdb7-f450-4804-ac55-825e1bb0fd2d",
   "metadata": {},
   "outputs": [
    {
     "name": "stdout",
     "output_type": "stream",
     "text": [
      "3.3333333333333335 mins\n"
     ]
    }
   ],
   "source": [
    "print(200/60, \"mins\")"
   ]
  },
  {
   "cell_type": "markdown",
   "id": "9aba7f3a-1cba-4a01-9047-d3fded1a75c4",
   "metadata": {},
   "source": [
    "## Author\n",
    "IGBINEDION JOSHUA EHUNWUNSE"
   ]
  },
  {
   "cell_type": "code",
   "execution_count": null,
   "id": "94d9f50f-a9d3-4bb8-b4ab-ee558a271278",
   "metadata": {},
   "outputs": [],
   "source": []
  }
 ],
 "metadata": {
  "kernelspec": {
   "display_name": "Python 3 (ipykernel)",
   "language": "python",
   "name": "python3"
  },
  "language_info": {
   "codemirror_mode": {
    "name": "ipython",
    "version": 3
   },
   "file_extension": ".py",
   "mimetype": "text/x-python",
   "name": "python",
   "nbconvert_exporter": "python",
   "pygments_lexer": "ipython3",
   "version": "3.10.9"
  }
 },
 "nbformat": 4,
 "nbformat_minor": 5
}
